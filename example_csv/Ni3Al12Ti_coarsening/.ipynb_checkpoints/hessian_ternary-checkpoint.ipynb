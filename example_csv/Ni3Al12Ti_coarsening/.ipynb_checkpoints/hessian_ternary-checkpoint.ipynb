{
 "cells": [
  {
   "cell_type": "code",
   "execution_count": 1,
   "metadata": {
    "id": "NX-1viRCzEKs"
   },
   "outputs": [],
   "source": [
    "fl = open(r\"hessian_Ni3Al12Ti_coarsening.dat\")\n"
   ]
  },
  {
   "cell_type": "code",
   "execution_count": 2,
   "metadata": {
    "id": "0FM0v6T14MYY"
   },
   "outputs": [],
   "source": [
    "import re\n",
    "temp=[]\n",
    "d=[]\n",
    "phases=[]\n",
    "for i in fl.readlines():\n",
    "  d.append(i)"
   ]
  },
  {
   "cell_type": "code",
   "execution_count": 3,
   "metadata": {
    "id": "uFScKXREiKe5"
   },
   "outputs": [],
   "source": [
    "import numpy as np\n",
    "temp=[]\n",
    "hsn_fccAlAl=[]\n",
    "hsn_fccAlNb=[]\n",
    "hsn_fccNbNb=[]\n",
    "hsn_liqAlAl=[]\n",
    "hsn_liqAlNb=[]\n",
    "hsn_liqNbNb=[]\n",
    "\n",
    "# mo=[]\n",
    "# si=[]\n",
    "# ti=[]\n",
    "j=0\n",
    "p=\"\"\n",
    "#s=\"Temp\"+str(\" \")+\"Al@liq\"+str(\" \")+\"Mg@liq\"+str(\" \")+\"Zn@liq\"+str(\" \")+\"Al@fcc\"+str(\" \")+\"Mg@fcc\"+str(\" \")+\"Zn@fcc\"\n",
    "#f1.write(s+\"\\n\")\n",
    "#print(j)\n",
    "while(j<len(d)):\n",
    "  x=re.split(\" \",d[j])\n",
    "  c=\"\"\n",
    "  #print(j)\n",
    "  if x[0]==\"Temperature\":\n",
    "    vl=[]\n",
    "    #s=s+str(re.split(\"\\n\",x[1])[0])+str(\" \")\n",
    "    temp.append(re.split(\"\\n\",x[1])[0])\n",
    "    #while(True):\n",
    "    j=j+3\n",
    "    x=re.split(\" \",d[j])\n",
    "    #s=s+x[1]+str(\" \")\n",
    "    hsn_fccAlAl.append(re.split(\"\\n\",x[1])[0])\n",
    "    j=j+1\n",
    "    x=re.split(\" \",d[j])\n",
    "    #s=s+x[1]+str(\" \")\n",
    "    hsn_fccAlNb.append(re.split(\"\\n\",x[1])[0])\n",
    "    j=j+2\n",
    "    x=re.split(\" \",d[j])\n",
    "    #s=s+x[1]+str(\" \")\n",
    "    hsn_fccNbNb.append(re.split(\"\\n\",x[1])[0])\n",
    "    j=j+7\n",
    "    x=re.split(\" \",d[j])\n",
    "    #s=s+x[1]+str(\" \")\n",
    "    hsn_liqAlAl.append(re.split(\"\\n\",x[1])[0])\n",
    "    j=j+1\n",
    "    x=re.split(\" \",d[j])\n",
    "    #s=s+x[1]+str(\" \")\n",
    "    hsn_liqAlNb.append(re.split(\"\\n\",x[1])[0])\n",
    "    j=j+2\n",
    "    x=re.split(\" \",d[j])\n",
    "    #s=s+x[1]+str(\" \")\n",
    "    hsn_liqNbNb.append(re.split(\"\\n\",x[1])[0])\n",
    "    # j=j+1\n",
    "    # x=re.split(\" \",d[j])\n",
    "    # #s=s+x[1]+str(\" \")\n",
    "    # fcc_al.append(re.split(\"\\n\",x[1])[0])\n",
    "    j=j+5\n",
    "    \n",
    "  j=j+1   \n",
    "\n",
    "\n",
    "  \n",
    "#del temp[-1]\n"
   ]
  },
  {
   "cell_type": "code",
   "execution_count": 4,
   "metadata": {
    "scrolled": true
   },
   "outputs": [
    {
     "name": "stdout",
     "output_type": "stream",
     "text": [
      "['505698', '510290', '514919', '519582', '524277', '529001', '533751', '538525', '543321', '548135', '552966', '557812', '562669', '567537', '572412', '577293', '582178', '587065']\n"
     ]
    }
   ],
   "source": [
    "print(hsn_fccAlAl)"
   ]
  },
  {
   "cell_type": "code",
   "execution_count": 5,
   "metadata": {},
   "outputs": [],
   "source": [
    "temp.reverse()\n",
    "hsn_fccAlAl.reverse()\n",
    "hsn_fccAlNb.reverse()\n",
    "hsn_fccNbNb.reverse()\n",
    "hsn_liqAlAl.reverse()\n",
    "hsn_liqAlNb.reverse()\n",
    "hsn_liqNbNb.reverse()"
   ]
  },
  {
   "cell_type": "code",
   "execution_count": 6,
   "metadata": {
    "id": "R2v3wg09lgsB"
   },
   "outputs": [],
   "source": [
    "import pandas as pd\n",
    "dt_liq={\"Temp\":temp,\"HSN(Al,Al)@liq\":hsn_liqAlAl,\"HSN(Ti,Ti)@liq\":hsn_liqNbNb,\"HSN(Al,Ti)@liq\":hsn_liqAlNb}#,\"Al@fcc\":fcc_al}#,\"Si@bcc\":bcc_si,\"Ti@bcc\":bcc_ti}\n",
    "#dt_motisi={\"Temp\":temp,\"Mo@liq\":liq_mo,\"Si@liq\":liq_si,\"Ti@liq\":liq_ti,\"Temp\":temp,\"Mo@motisi\":mo,\"Si@moti5si3\":si,\"Ti@moti5si3\":ti}\n",
    "dt_fcc={\"Temp\":temp,\"HSN(Al,Al)@fcc\":hsn_fccAlAl,\"HSN(Ti,Ti)@fcc\":hsn_fccNbNb,\"HSN(Al,Ti)@fcc\":hsn_fccAlNb}#,\"Al@fcc\":fcc_al}#,\"Si@bcc\":bcc_si,\"Ti@bcc\":bcc_ti}\n",
    "\n",
    "\n",
    "#dt_fcc={\"Temp\":temp,\"Ni@fcc\":fcc_ni,\"Al@fcc\":fcc_al,\"Re@fcc\":fcc_mo}\n",
    "data_liq=pd.DataFrame(dt_liq)\n",
    "data_fcc=pd.DataFrame(dt_fcc)\n",
    "#data_motisi=pd.DataFrame(dt_motisi)\n",
    "\n",
    "#data_fcc=pd.DataFrame(dt_fcc)"
   ]
  },
  {
   "cell_type": "code",
   "execution_count": 7,
   "metadata": {
    "id": "TV5xzQoOyRW7"
   },
   "outputs": [],
   "source": [
    "data_liq=data_liq.set_index(\"Temp\")\n",
    "data_fcc=data_fcc.set_index(\"Temp\")\n",
    "#data_motisi=data_motisi.set_index(\"Temp\")"
   ]
  },
  {
   "cell_type": "code",
   "execution_count": 8,
   "metadata": {
    "id": "N5Ymze2PENLB"
   },
   "outputs": [],
   "source": [
    "data_liq.to_csv(\"hsn_liq_Ni3Al12Ti_coarsening.csv\")\n",
    "data_fcc.to_csv(\"hsn_fcc_Ni3Al12Ti_coarsening.csv\")\n",
    "#data_motisi.to_csv(\"comp_moti5si3_mo52_8ti21si.csv\")"
   ]
  },
  {
   "cell_type": "code",
   "execution_count": null,
   "metadata": {},
   "outputs": [],
   "source": []
  }
 ],
 "metadata": {
  "colab": {
   "provenance": []
  },
  "kernelspec": {
   "display_name": "Python 3 (ipykernel)",
   "language": "python",
   "name": "python3"
  },
  "language_info": {
   "codemirror_mode": {
    "name": "ipython",
    "version": 3
   },
   "file_extension": ".py",
   "mimetype": "text/x-python",
   "name": "python",
   "nbconvert_exporter": "python",
   "pygments_lexer": "ipython3",
   "version": "3.9.12"
  }
 },
 "nbformat": 4,
 "nbformat_minor": 1
}
