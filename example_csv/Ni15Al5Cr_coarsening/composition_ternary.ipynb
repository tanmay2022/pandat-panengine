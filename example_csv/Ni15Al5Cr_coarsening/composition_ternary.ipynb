{
 "cells": [
  {
   "cell_type": "code",
   "execution_count": 1,
   "metadata": {
    "id": "NX-1viRCzEKs"
   },
   "outputs": [],
   "source": [
    "fl = open(r\"comp_Ni15Al5Cr_coarsening.dat\")\n"
   ]
  },
  {
   "cell_type": "code",
   "execution_count": 2,
   "metadata": {
    "id": "0FM0v6T14MYY"
   },
   "outputs": [],
   "source": [
    "import re\n",
    "temp=[]\n",
    "d=[]\n",
    "phases=[]\n",
    "for i in fl.readlines():\n",
    "  d.append(i)"
   ]
  },
  {
   "cell_type": "code",
   "execution_count": 3,
   "metadata": {
    "id": "uFScKXREiKe5"
   },
   "outputs": [],
   "source": [
    "import numpy as np\n",
    "temp=[]\n",
    "#liq_ni=[]\n",
    "liq_cr=[]\n",
    "liq_al=[]\n",
    "#fcc_ni=[]\n",
    "fcc_cr=[]\n",
    "fcc_al=[]\n",
    "\n",
    "# mo=[]\n",
    "# si=[]\n",
    "# ti=[]\n",
    "j=0\n",
    "p=\"\"\n",
    "#s=\"Temp\"+str(\" \")+\"Al@liq\"+str(\" \")+\"Mg@liq\"+str(\" \")+\"Zn@liq\"+str(\" \")+\"Al@fcc\"+str(\" \")+\"Mg@fcc\"+str(\" \")+\"Zn@fcc\"\n",
    "#f1.write(s+\"\\n\")\n",
    "#print(j)\n",
    "while(j<8709):\n",
    "  x=re.split(\" \",d[j])\n",
    "  c=\"\"\n",
    "  #print(j)\n",
    "  if x[0]==\"Temperature\":\n",
    "    vl=[]\n",
    "    #s=s+str(re.split(\"\\n\",x[1])[0])+str(\" \")\n",
    "    temp.append(re.split(\"\\n\",x[1])[0])\n",
    "    #while(True):\n",
    "    j=j+2\n",
    "    #x=re.split(\" \",d[j])\n",
    "    #s=s+x[1]+str(\" \")\n",
    "    #fcc_ni.append(re.split(\"\\n\",x[1])[0])\n",
    "    #j=j+1\n",
    "    x=re.split(\" \",d[j])\n",
    "    #s=s+x[1]+str(\" \")\n",
    "    liq_al.append(re.split(\"\\n\",x[1])[0])\n",
    "    j=j+1\n",
    "    x=re.split(\" \",d[j])\n",
    "    #s=s+x[1]+str(\" \")\n",
    "    liq_cr.append(re.split(\"\\n\",x[1])[0])\n",
    "    # j=j+1\n",
    "    # x=re.split(\" \",d[j])\n",
    "    # #s=s+x[1]+str(\" \")\n",
    "    # fcc_al.append(re.split(\"\\n\",x[1])[0])\n",
    "    j=j+2\n",
    "    #x=re.split(\" \",d[j])\n",
    "    #s=s+x[1]+str(\" \")\n",
    "    #liq_ni.append(re.split(\"\\n\",x[1])[0])\n",
    "    #j=j+1\n",
    "    x=re.split(\" \",d[j])\n",
    "    #print(x)\n",
    "    #s=s+x[1]+str(\" \")\n",
    "    fcc_al.append(re.split(\"\\n\",x[1])[0])\n",
    "    j=j+1\n",
    "    x=re.split(\" \",d[j])\n",
    "    #print(x)\n",
    "    #s=s+x[1]+str(\" \")\n",
    "    fcc_cr.append(re.split(\"\\n\",x[1])[0])\n",
    "    # j=j+1\n",
    "    # x=re.split(\" \",d[j])\n",
    "    # # #s=s+x[1]+str(\" \")\n",
    "    # liq_al.append(re.split(\"\\n\",x[1])[0])\n",
    "    # j=j+2\n",
    "    # x=re.split(\" \",d[j])\n",
    "    # bcc_mo.append(re.split(\"\\n\",x[1])[0])\n",
    "    # j=j+1\n",
    "    # x=re.split(\" \",d[j])\n",
    "    # bcc_si.append(re.split(\"\\n\",x[1])[0])\n",
    "    # j=j+1\n",
    "    # x=re.split(\" \",d[j])\n",
    "    # bcc_ti.append(re.split(\"\\n\",x[1])[0])\n",
    "    # c=c+str(vl[0])+str(' ')+str(vl[1])+str(' ')+str(vl[2])+str(' ')+str(vl[3])+str(' ')+str(vl[4])+str(' ')+str(vl[5])+str(' ')+str(vl[6])\n",
    "    # f1.write(c + \"\\n\")\n",
    "\n",
    "  j=j+1   \n",
    "\n",
    "while(j<len(d)):\n",
    "  x=re.split(\" \",d[j])\n",
    "  c=\"\"\n",
    "  #print(j)\n",
    "  if x[0]==\"Temperature\":\n",
    "    vl=[]\n",
    "    #s=s+str(re.split(\"\\n\",x[1])[0])+str(\" \")\n",
    "    temp.append(re.split(\"\\n\",x[1])[0])\n",
    "    #while(True):\n",
    "    j=j+2\n",
    "    #x=re.split(\" \",d[j])\n",
    "    #s=s+x[1]+str(\" \")\n",
    "    #fcc_ni.append(re.split(\"\\n\",x[1])[0])\n",
    "    #j=j+1\n",
    "    x=re.split(\" \",d[j])\n",
    "    #s=s+x[1]+str(\" \")\n",
    "    fcc_al.append(re.split(\"\\n\",x[1])[0])\n",
    "    j=j+1\n",
    "    x=re.split(\" \",d[j])\n",
    "    #s=s+x[1]+str(\" \")\n",
    "    fcc_cr.append(re.split(\"\\n\",x[1])[0])\n",
    "    # j=j+1\n",
    "    # x=re.split(\" \",d[j])\n",
    "    # #s=s+x[1]+str(\" \")\n",
    "    # fcc_al.append(re.split(\"\\n\",x[1])[0])\n",
    "    j=j+2\n",
    "    #x=re.split(\" \",d[j])\n",
    "    #s=s+x[1]+str(\" \")\n",
    "    #liq_ni.append(re.split(\"\\n\",x[1])[0])\n",
    "    #j=j+1\n",
    "    x=re.split(\" \",d[j])\n",
    "    #print(x)\n",
    "    #s=s+x[1]+str(\" \")\n",
    "    liq_al.append(re.split(\"\\n\",x[1])[0])\n",
    "    j=j+1\n",
    "    x=re.split(\" \",d[j])\n",
    "    #print(x)\n",
    "    #s=s+x[1]+str(\" \")\n",
    "    liq_cr.append(re.split(\"\\n\",x[1])[0])\n",
    "    # j=j+1\n",
    "    # x=re.split(\" \",d[j])\n",
    "    # # #s=s+x[1]+str(\" \")\n",
    "    # liq_al.append(re.split(\"\\n\",x[1])[0])\n",
    "    # j=j+2\n",
    "    # x=re.split(\" \",d[j])\n",
    "    # bcc_mo.append(re.split(\"\\n\",x[1])[0])\n",
    "    # j=j+1\n",
    "    # x=re.split(\" \",d[j])\n",
    "    # bcc_si.append(re.split(\"\\n\",x[1])[0])\n",
    "    # j=j+1\n",
    "    # x=re.split(\" \",d[j])\n",
    "    # bcc_ti.append(re.split(\"\\n\",x[1])[0])\n",
    "    # c=c+str(vl[0])+str(' ')+str(vl[1])+str(' ')+str(vl[2])+str(' ')+str(vl[3])+str(' ')+str(vl[4])+str(' ')+str(vl[5])+str(' ')+str(vl[6])\n",
    "    # f1.write(c + \"\\n\")\n",
    "\n",
    "  j=j+1\n",
    "  \n",
    "#del temp[-1]\n"
   ]
  },
  {
   "cell_type": "code",
   "execution_count": 4,
   "metadata": {},
   "outputs": [],
   "source": [
    "#print(fcc_nb)"
   ]
  },
  {
   "cell_type": "code",
   "execution_count": 5,
   "metadata": {},
   "outputs": [],
   "source": [
    "temp.reverse()\n",
    "#fcc_ni.reverse()\n",
    "fcc_cr.reverse()\n",
    "fcc_al.reverse()\n",
    "#liq_ni.reverse()\n",
    "liq_cr.reverse()\n",
    "liq_al.reverse()\n"
   ]
  },
  {
   "cell_type": "code",
   "execution_count": 6,
   "metadata": {},
   "outputs": [],
   "source": [
    "#print(fcc_nb)"
   ]
  },
  {
   "cell_type": "code",
   "execution_count": 7,
   "metadata": {
    "id": "R2v3wg09lgsB"
   },
   "outputs": [],
   "source": [
    "import pandas as pd\n",
    "dt_liq={\"Temp\":temp,\"Al@l12fcc\":fcc_al,\"Cr@l12fcc\":fcc_cr,\"Al@fcc\":liq_al,\"Cr@fcc\":liq_cr}#,\"Al@fcc\":fcc_al}#,\"Si@bcc\":bcc_si,\"Ti@bcc\":bcc_ti}\n",
    "#dt_motisi={\"Temp\":temp,\"Mo@liq\":liq_mo,\"Si@liq\":liq_si,\"Ti@liq\":liq_ti,\"Temp\":temp,\"Mo@motisi\":mo,\"Si@moti5si3\":si,\"Ti@moti5si3\":ti}\n",
    "\n",
    "\n",
    "#dt_fcc={\"Temp\":temp,\"Ni@fcc\":fcc_ni,\"Al@fcc\":fcc_al,\"Re@fcc\":fcc_mo}\n",
    "data_liq=pd.DataFrame(dt_liq)\n",
    "#data_fcc=pd.DataFrame(dt_fcc)\n",
    "#data_motisi=pd.DataFrame(dt_motisi)\n",
    "\n",
    "#data_fcc=pd.DataFrame(dt_fcc)"
   ]
  },
  {
   "cell_type": "code",
   "execution_count": 8,
   "metadata": {
    "id": "TV5xzQoOyRW7"
   },
   "outputs": [],
   "source": [
    "data_liq=data_liq.set_index(\"Temp\")\n",
    "#data_fcc=data_fcc.set_index(\"Temp\")\n",
    "#data_motisi=data_motisi.set_index(\"Temp\")"
   ]
  },
  {
   "cell_type": "code",
   "execution_count": null,
   "metadata": {},
   "outputs": [],
   "source": []
  },
  {
   "cell_type": "code",
   "execution_count": 9,
   "metadata": {
    "id": "N5Ymze2PENLB"
   },
   "outputs": [],
   "source": [
    "data_liq.to_csv(\"comp_Ni15Al5Cr_coarsening.csv\")\n",
    "#data_fcc.to_csv(\"comp_fcc_NiAlRe.csv\")\n",
    "#data_motisi.to_csv(\"comp_moti5si3_mo52_8ti21si.csv\")"
   ]
  },
  {
   "cell_type": "code",
   "execution_count": null,
   "metadata": {},
   "outputs": [],
   "source": []
  }
 ],
 "metadata": {
  "colab": {
   "provenance": []
  },
  "kernelspec": {
   "display_name": "Python 3 (ipykernel)",
   "language": "python",
   "name": "python3"
  },
  "language_info": {
   "codemirror_mode": {
    "name": "ipython",
    "version": 3
   },
   "file_extension": ".py",
   "mimetype": "text/x-python",
   "name": "python",
   "nbconvert_exporter": "python",
   "pygments_lexer": "ipython3",
   "version": "3.9.12"
  }
 },
 "nbformat": 4,
 "nbformat_minor": 1
}
